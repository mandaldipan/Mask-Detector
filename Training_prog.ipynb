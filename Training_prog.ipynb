{
 "cells": [
  {
   "cell_type": "markdown",
   "id": "f094d3af",
   "metadata": {},
   "source": [
    "# Data pre-processing and creation of the Mask Detector model.\n",
    "\n",
    "This Dataset consists of 10,000 images, 5,000 face images with masks and 5,000 without masks. This Dataset is prepared by\n",
    "[Ashish Jangra](https://www.kaggle.com/ashishjangra27) and available at [Kaggle](https://www.kaggle.com/ashishjangra27/face-mask-12k-images-dataset)\n"
   ]
  },
  {
   "cell_type": "code",
   "execution_count": 1,
   "id": "f06936f9",
   "metadata": {},
   "outputs": [],
   "source": [
    "#Importing the dependencies\n",
    "\n",
    "import cv2\n",
    "import os\n",
    "import numpy as np\n",
    "from keras.models import Sequential\n",
    "from keras.layers import Dense,Activation,Flatten,Dropout\n",
    "from keras.layers import Conv2D,MaxPooling2D\n",
    "from keras.callbacks import ModelCheckpoint\n",
    "from sklearn.model_selection import train_test_split\n",
    "from matplotlib import pyplot as plt\n",
    "import tensorflow as tf\n"
   ]
  },
  {
   "cell_type": "markdown",
   "id": "7ef11e44",
   "metadata": {},
   "source": [
    "**- Creating a path to the Directory having the full dataset, \n",
    "  and mentioning particular labels for the dataset with and without masks.**"
   ]
  },
  {
   "cell_type": "code",
   "execution_count": 2,
   "id": "ab2ae2b5",
   "metadata": {},
   "outputs": [
    {
     "name": "stdout",
     "output_type": "stream",
     "text": [
      "{'with_mask': 0, 'without_mask': 1}\n",
      "['with_mask', 'without_mask']\n",
      "[0, 1]\n"
     ]
    }
   ],
   "source": [
    "DIRECTORY = r\"dataset\"\n",
    "CATEGORIES = [\"with_mask\", \"without_mask\"]\n",
    "\n",
    "labels=[i for i in range(len(CATEGORIES))]\n",
    "label_dict=dict(zip(CATEGORIES,labels)) \n",
    "\n",
    "print(label_dict)\n",
    "print(CATEGORIES)\n",
    "print(labels)"
   ]
  },
  {
   "cell_type": "markdown",
   "id": "ad4dd67a",
   "metadata": {},
   "source": [
    "**- Pre-processing the images, this includes reading them one by one and at the same time converting them into grayscale and resizing each of them into a particular height and width.**"
   ]
  },
  {
   "cell_type": "code",
   "execution_count": 3,
   "id": "e9f42680",
   "metadata": {},
   "outputs": [
    {
     "name": "stdout",
     "output_type": "stream",
     "text": [
      "[INFO] processsing images...\n",
      "\n"
     ]
    }
   ],
   "source": [
    "img_size = 100\n",
    "data = []\n",
    "target = []\n",
    "\n",
    "# grab the list of images in our dataset directory, then initialize\n",
    "# the list of data (i.e., images) and class images\n",
    "print(\"[INFO] processsing images...\\n\")\n",
    "\n",
    "for category in CATEGORIES:\n",
    "    folder_path = os.path.join(DIRECTORY, category)\n",
    "    img_names=os.listdir(folder_path)\n",
    "    \n",
    "    for img_name in img_names:\n",
    "        img_path=os.path.join(folder_path,img_name)\n",
    "        \n",
    "        # Reading the image.\n",
    "        img=cv2.imread(img_path)\n",
    "        \n",
    "        try:\n",
    "            #Coverting the image into gray scale\n",
    "            gray=cv2.cvtColor(img,cv2.COLOR_BGR2GRAY)      \n",
    "            \n",
    "            #resizing the gray scale into 100 x 100, since we need a common size for all the images in the Dataset. \n",
    "            resized=cv2.resize(gray,(img_size,img_size)) \n",
    "            \n",
    "            data.append(resized)\n",
    "            target.append(label_dict[category])\n",
    "            #appending the image and the label(categorized) into the list (dataset)\n",
    "\n",
    "        except Exception as e:\n",
    "            print('Exception:',e)\n",
    "            #if any exception rasied, the exception will be printed here. And pass to the next image     \n"
   ]
  },
  {
   "cell_type": "markdown",
   "id": "b0c68fe5",
   "metadata": {},
   "source": [
    "### - Normalising the data."
   ]
  },
  {
   "cell_type": "code",
   "execution_count": 4,
   "id": "9b3eac24",
   "metadata": {},
   "outputs": [
    {
     "name": "stdout",
     "output_type": "stream",
     "text": [
      "(100, 100, 1)\n",
      "(10000, 2)\n"
     ]
    }
   ],
   "source": [
    "data = np.array(data)/255.0\n",
    "data = np.reshape(data,(data.shape[0],img_size,img_size,1))\n",
    "target = np.array(target)\n",
    "\n",
    "from keras.utils import np_utils\n",
    "new_target=np_utils.to_categorical(target)\n",
    "\n",
    "print(data.shape[1:])\n",
    "print(new_target.shape)"
   ]
  },
  {
   "cell_type": "markdown",
   "id": "da3c8784",
   "metadata": {},
   "source": [
    "### - Defining the CNN model and its various layers.**"
   ]
  },
  {
   "cell_type": "code",
   "execution_count": 13,
   "id": "170c77c8",
   "metadata": {},
   "outputs": [],
   "source": [
    "Epoch = 20\n",
    "Batch_size = 40\n",
    "\n",
    "model=Sequential()\n",
    "\n",
    "model.add(Conv2D(100, (5,5), input_shape = data.shape[1:], activation='relu'))\n",
    "model.add(MaxPooling2D(pool_size=(3,3)))\n",
    "#The first CNN layer followed by MaxPooling layers\n",
    "\n",
    "model.add(Conv2D(50,(3,3), activation='relu'))\n",
    "model.add(MaxPooling2D(pool_size=(2,2)))\n",
    "#The second convolution layer followed by MaxPooling layers\n",
    "\n",
    "model.add(Flatten())\n",
    "model.add(Dropout(0.5))\n",
    "#Flatten layer to stack the output convolutions from second convolution layer\n",
    "\n",
    "model.add(Dense(50,activation='relu'))\n",
    "model.add(Dropout(0.3))\n",
    "\n",
    "model.add(Dense(10,activation='relu'))\n",
    "model.add(Dense(2,activation='softmax'))\n",
    "#The Final layer with two outputs for two categories\n",
    "\n",
    "model.compile(loss='categorical_crossentropy',optimizer='adam',metrics=['accuracy'])"
   ]
  },
  {
   "cell_type": "code",
   "execution_count": 14,
   "id": "29da702b",
   "metadata": {},
   "outputs": [
    {
     "name": "stdout",
     "output_type": "stream",
     "text": [
      "Model: \"sequential_4\"\n",
      "_________________________________________________________________\n",
      "Layer (type)                 Output Shape              Param #   \n",
      "=================================================================\n",
      "conv2d_8 (Conv2D)            (None, 96, 96, 100)       2600      \n",
      "_________________________________________________________________\n",
      "max_pooling2d_8 (MaxPooling2 (None, 32, 32, 100)       0         \n",
      "_________________________________________________________________\n",
      "conv2d_9 (Conv2D)            (None, 30, 30, 50)        45050     \n",
      "_________________________________________________________________\n",
      "max_pooling2d_9 (MaxPooling2 (None, 15, 15, 50)        0         \n",
      "_________________________________________________________________\n",
      "flatten_4 (Flatten)          (None, 11250)             0         \n",
      "_________________________________________________________________\n",
      "dropout_5 (Dropout)          (None, 11250)             0         \n",
      "_________________________________________________________________\n",
      "dense_8 (Dense)              (None, 50)                562550    \n",
      "_________________________________________________________________\n",
      "dropout_6 (Dropout)          (None, 50)                0         \n",
      "_________________________________________________________________\n",
      "dense_9 (Dense)              (None, 10)                510       \n",
      "_________________________________________________________________\n",
      "dense_10 (Dense)             (None, 2)                 22        \n",
      "=================================================================\n",
      "Total params: 610,732\n",
      "Trainable params: 610,732\n",
      "Non-trainable params: 0\n",
      "_________________________________________________________________\n"
     ]
    }
   ],
   "source": [
    "model.summary()      # Gives a summary of the result of model fitting function."
   ]
  },
  {
   "cell_type": "code",
   "execution_count": 15,
   "id": "9eac24b0",
   "metadata": {},
   "outputs": [],
   "source": [
    "# Assigning the data for Training and Testing\n",
    "train_data, test_data, train_target, test_target = train_test_split(data, new_target, test_size = 0.1)\n"
   ]
  },
  {
   "cell_type": "code",
   "execution_count": 16,
   "id": "3d04b077",
   "metadata": {},
   "outputs": [
    {
     "name": "stdout",
     "output_type": "stream",
     "text": [
      "Epoch 1/20\n",
      "180/180 [==============================] - 86s 479ms/step - loss: 0.4261 - accuracy: 0.7731 - val_loss: 0.1125 - val_accuracy: 0.9611\n",
      "Epoch 2/20\n",
      "180/180 [==============================] - 84s 468ms/step - loss: 0.1403 - accuracy: 0.9521 - val_loss: 0.0955 - val_accuracy: 0.9711\n",
      "Epoch 3/20\n",
      "180/180 [==============================] - 84s 465ms/step - loss: 0.1175 - accuracy: 0.9618 - val_loss: 0.0895 - val_accuracy: 0.9700\n",
      "Epoch 4/20\n",
      "180/180 [==============================] - 85s 474ms/step - loss: 0.0978 - accuracy: 0.9679 - val_loss: 0.1028 - val_accuracy: 0.9644\n",
      "Epoch 5/20\n",
      "180/180 [==============================] - 88s 490ms/step - loss: 0.0853 - accuracy: 0.9715 - val_loss: 0.0895 - val_accuracy: 0.9639\n",
      "Epoch 6/20\n",
      "180/180 [==============================] - 84s 467ms/step - loss: 0.0737 - accuracy: 0.9735 - val_loss: 0.0685 - val_accuracy: 0.9778\n",
      "Epoch 7/20\n",
      "180/180 [==============================] - 89s 494ms/step - loss: 0.0703 - accuracy: 0.9756 - val_loss: 0.0606 - val_accuracy: 0.9806\n",
      "Epoch 8/20\n",
      "180/180 [==============================] - 92s 509ms/step - loss: 0.0732 - accuracy: 0.9771 - val_loss: 0.0571 - val_accuracy: 0.9794\n",
      "Epoch 9/20\n",
      "180/180 [==============================] - 83s 459ms/step - loss: 0.0648 - accuracy: 0.9774 - val_loss: 0.0542 - val_accuracy: 0.9800\n",
      "Epoch 10/20\n",
      "180/180 [==============================] - 101s 559ms/step - loss: 0.0526 - accuracy: 0.9817 - val_loss: 0.0513 - val_accuracy: 0.9833\n",
      "Epoch 11/20\n",
      "180/180 [==============================] - 127s 704ms/step - loss: 0.0454 - accuracy: 0.9846 - val_loss: 0.0677 - val_accuracy: 0.9772\n",
      "Epoch 12/20\n",
      "180/180 [==============================] - 95s 530ms/step - loss: 0.0400 - accuracy: 0.9860 - val_loss: 0.0800 - val_accuracy: 0.9711\n",
      "Epoch 13/20\n",
      "180/180 [==============================] - 95s 526ms/step - loss: 0.0415 - accuracy: 0.9865 - val_loss: 0.0484 - val_accuracy: 0.9861\n",
      "Epoch 14/20\n",
      "180/180 [==============================] - 83s 460ms/step - loss: 0.0421 - accuracy: 0.9847 - val_loss: 0.0850 - val_accuracy: 0.9706\n",
      "Epoch 15/20\n",
      "180/180 [==============================] - 94s 522ms/step - loss: 0.0367 - accuracy: 0.9869 - val_loss: 0.0540 - val_accuracy: 0.9850\n",
      "Epoch 16/20\n",
      "180/180 [==============================] - 94s 520ms/step - loss: 0.0355 - accuracy: 0.9885 - val_loss: 0.0865 - val_accuracy: 0.9694\n",
      "Epoch 17/20\n",
      "180/180 [==============================] - 82s 457ms/step - loss: 0.0380 - accuracy: 0.9878 - val_loss: 0.0842 - val_accuracy: 0.9739\n",
      "Epoch 18/20\n",
      "180/180 [==============================] - 86s 475ms/step - loss: 0.0386 - accuracy: 0.9871 - val_loss: 0.0517 - val_accuracy: 0.9872\n",
      "Epoch 19/20\n",
      "180/180 [==============================] - 82s 455ms/step - loss: 0.0334 - accuracy: 0.9885 - val_loss: 0.0786 - val_accuracy: 0.9739\n",
      "Epoch 20/20\n",
      "180/180 [==============================] - 84s 464ms/step - loss: 0.0257 - accuracy: 0.9897 - val_loss: 0.0499 - val_accuracy: 0.9872\n"
     ]
    }
   ],
   "source": [
    "# Training the model.\n",
    "history = model.fit(train_data, \n",
    "                    train_target,\n",
    "                    Batch_size,\n",
    "                    Epoch, \n",
    "                    validation_split = 0.2,\n",
    "                    verbose = 1)"
   ]
  },
  {
   "cell_type": "markdown",
   "id": "9cfd909c",
   "metadata": {},
   "source": [
    "### - Plotting the accuracy and loss of the data."
   ]
  },
  {
   "cell_type": "code",
   "execution_count": 17,
   "id": "6c8b7293",
   "metadata": {},
   "outputs": [
    {
     "name": "stdout",
     "output_type": "stream",
     "text": [
      "[0.42609095573425293, 0.14031340181827545, 0.11752079427242279, 0.09784385561943054, 0.08532113581895828, 0.07368241995573044, 0.0703236311674118, 0.07324761152267456, 0.0647844448685646, 0.05259193480014801, 0.04540631175041199, 0.03997248038649559, 0.041464172303676605, 0.04208885505795479, 0.03665280342102051, 0.0355423204600811, 0.03804454207420349, 0.03863194212317467, 0.033438313752412796, 0.025654101744294167]\n",
      "Train loss =  0.025654101744294167\n",
      "Train accuracy =  0.9897222518920898\n",
      "Test loss =  0.04994923993945122\n",
      "Test accuracy =  0.9872221946716309\n"
     ]
    },
    {
     "data": {
      "image/png": "[encoded data removed]",
      "text/plain": [
       "<Figure size 432x288 with 2 Axes>"
      ]
     },
     "metadata": {
      "needs_background": "light"
     },
     "output_type": "display_data"
    }
   ],
   "source": [
    "print(history.history['loss'])\n",
    "print(\"Train loss = \", history.history['loss'][-1])\n",
    "print(\"Train accuracy = \", history.history['accuracy'][-1])\n",
    "          \n",
    "print(\"Test loss = \", history.history['val_loss'][-1])\n",
    "print(\"Test accuracy = \", history.history['val_accuracy'][-1])\n",
    "    \n",
    "    \n",
    "plt.subplot(2,1,1)\n",
    "plt.title('Model Accuracy')\n",
    "plt.plot(range(1, Epoch+1), history.history['accuracy'])\n",
    "plt.plot(range(1,  Epoch+1), history.history['val_accuracy'])\n",
    "    \n",
    "plt.ylabel('Accuracy')\n",
    "plt.xlabel('Epoch')\n",
    "plt.legend(['train', 'test'], loc='lower right')\n",
    "    \n",
    "plt.subplot(2,1,2)\n",
    "plt.title('Model loss')\n",
    "plt.plot(history.history['loss'])\n",
    "plt.plot(history.history['val_loss'])\n",
    "    \n",
    "plt.ylabel('Loss')\n",
    "plt.xlabel('Epoch')\n",
    "plt.legend(['train', 'test'], loc='lower right')\n",
    "    \n",
    "    \n",
    "plt.tight_layout()\n"
   ]
  },
  {
   "cell_type": "code",
   "execution_count": 18,
   "id": "415bc931",
   "metadata": {},
   "outputs": [
    {
     "name": "stdout",
     "output_type": "stream",
     "text": [
      "[INFO] saving mask detector model...\n"
     ]
    }
   ],
   "source": [
    "# Saving the Model.\n",
    "print(\"[INFO] saving mask detector model...\")\n",
    "model.save(\"mask_detector2.model\", save_format=\"h5\")"
   ]
  }
 ],
 "metadata": {
  "kernelspec": {
   "display_name": "Python 3",
   "language": "python",
   "name": "python3"
  },
  "language_info": {
   "codemirror_mode": {
    "name": "ipython",
    "version": 3
   },
   "file_extension": ".py",
   "mimetype": "text/x-python",
   "name": "python",
   "nbconvert_exporter": "python",
   "pygments_lexer": "ipython3",
   "version": "3.8.8"
  }
 },
 "nbformat": 4,
 "nbformat_minor": 5
}
