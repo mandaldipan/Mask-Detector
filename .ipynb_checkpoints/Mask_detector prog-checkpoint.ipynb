{
 "cells": [
  {
   "cell_type": "markdown",
   "id": "cf37dfec",
   "metadata": {},
   "source": [
    "# The Sparks Foundation #GRIPJUNE21\n",
    "\n",
    "## Computer Vision & Internet of Things\n",
    "\n",
    "### Task 4 : Detection of face mask\n",
    "\n",
    "### By - DIPAN MANDAL"
   ]
  },
  {
   "cell_type": "markdown",
   "id": "0eb51291",
   "metadata": {},
   "source": [
    "### About the project :-\n",
    "- This Project is done with the help of Tenserflow, Keras, Numpy and OpenCV on Python. This project uses a pre-trained deep learning model to detect face masks. The face detection is done with the concept of \"**Cascade Classifier**\" method proposed by Paul Viola and Michael Jones in their paper, \"**Rapid Object Detection using a Boosted Cascade of Simple Features**\" in 2001. It is a machine learning based approach where a cascade function is trained from a lot of positive and negative images. It is then used to detect objects in other images.\n"
   ]
  },
  {
   "cell_type": "code",
   "execution_count": 1,
   "id": "5c6a6079",
   "metadata": {},
   "outputs": [],
   "source": [
    "# Importing the depencies.\n",
    "\n",
    "import tensorflow as tf\n",
    "from tensorflow import keras\n",
    "import cv2\n",
    "import numpy as np"
   ]
  },
  {
   "cell_type": "markdown",
   "id": "72b727f3",
   "metadata": {},
   "source": [
    "**- Loading the face mask detecting model created in the program \"Training_prog\", then creating a cascade classifier object named \"face_detect\".**"
   ]
  },
  {
   "cell_type": "code",
   "execution_count": 2,
   "id": "954037a3",
   "metadata": {},
   "outputs": [],
   "source": [
    "model =  keras.models.load_model('mask_detector2.model')\n",
    "\n",
    "# Creating a Cascade Classifier object for Face Detection\n",
    "face_detect = cv2.CascadeClassifier('haarcascade_frontalface_default.xml')\n",
    "\n",
    "labels_dict={0:'MASK',1:'NO MASK'}\n",
    "color_dict={0:(0,255,0),1:(0,0,255)}"
   ]
  },
  {
   "cell_type": "markdown",
   "id": "1fb7fe11",
   "metadata": {},
   "source": [
    "**- Taking webcam feed and deploying the face mask detection model along with cascade classifier method.**"
   ]
  },
  {
   "cell_type": "code",
   "execution_count": 3,
   "id": "f105f866",
   "metadata": {},
   "outputs": [],
   "source": [
    "video = cv2.VideoCapture(0)  # 0 - From Webcam\n",
    "\n",
    "while True:\n",
    "    check, frame = video.read()\n",
    "    gray = cv2.cvtColor(frame,cv2.COLOR_BGR2GRAY)\n",
    "    face = face_detect.detectMultiScale(gray, 1.3, 5)\n",
    "    \n",
    "    for x, y, w, h in face:\n",
    "        face_img = gray[y:y+w, x:x+w]\n",
    "        resized = cv2.resize(face_img,(100, 100))\n",
    "        normalized = resized/255.0\n",
    "        reshaped = np.reshape(normalized,(1, 100, 100, 1))\n",
    "        result = model.predict(reshaped)\n",
    "        #print(result)\n",
    "        label = np.argmax(result, axis = 1)[0]\n",
    "        \n",
    "        cv2.rectangle(frame, (x,y), (x+w,y+h), color_dict[label], 2)\n",
    "        cv2.rectangle(frame, (x,y-40), (x+w,y), color_dict[label], -1)\n",
    "\n",
    "        if result[0][label] > 0.8:\n",
    "            cv2.putText(frame, labels_dict[label], (x, y-10), cv2.FONT_HERSHEY_SIMPLEX, 0.8, (255,255,255), 2)\n",
    "        else:\n",
    "            cv2.putText(frame, \"Uncertain\", (x, y-10), cv2.FONT_HERSHEY_SIMPLEX, 0.8, (255,255,255), 2)\n",
    "            \n",
    "    cv2.imshow('Webcam Feed',frame)\n",
    "    key=cv2.waitKey(1)\n",
    "    \n",
    "    if(key==27):\n",
    "        break\n",
    "        \n",
    "cv2.destroyAllWindows()\n",
    "video.release()"
   ]
  },
  {
   "cell_type": "markdown",
   "id": "1dca8f53",
   "metadata": {},
   "source": [
    "## This concludes the topic, Face Mask Detection."
   ]
  }
 ],
 "metadata": {
  "kernelspec": {
   "display_name": "Python 3",
   "language": "python",
   "name": "python3"
  },
  "language_info": {
   "codemirror_mode": {
    "name": "ipython",
    "version": 3
   },
   "file_extension": ".py",
   "mimetype": "text/x-python",
   "name": "python",
   "nbconvert_exporter": "python",
   "pygments_lexer": "ipython3",
   "version": "3.8.10"
  }
 },
 "nbformat": 4,
 "nbformat_minor": 5
}
